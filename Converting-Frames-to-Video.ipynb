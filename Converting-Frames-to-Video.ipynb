{
 "cells": [
  {
   "cell_type": "code",
   "execution_count": 14,
   "metadata": {},
   "outputs": [],
   "source": [
    "import cv2\n",
    "import os\n",
    "\n",
    "from os.path import isfile, join"
   ]
  },
  {
   "cell_type": "code",
   "execution_count": 15,
   "metadata": {},
   "outputs": [],
   "source": [
    "def convert_frames_to_video(pathIn, pathOut, fps):\n",
    "    frame_array = []\n",
    "    files = [f for f in os.listdir(pathIn) if isfile(join(pathIn, f))]\n",
    "    \n",
    "    #for sorting the file names properly\n",
    "    print(len(files))\n",
    "    for i in range(len(files)-1):\n",
    "        filename = pathIn + files[i]\n",
    "        #reading each files\n",
    "        img = cv2.imread(filename)\n",
    "        height,  width,  layers = img.shape\n",
    "        size = (width, height)\n",
    "        print(filename)\n",
    "        #inserting the frames into an image array\n",
    "        frame_array.append(img)\n",
    "        \n",
    "    out =  cv2.VideoWriter(pathOut, cv2.VideoWriter_fourcc(*'DIVX'),  fps,  size)\n",
    "    \n",
    "    for i in range(len(frame_array)):\n",
    "        #writing to a image  array\n",
    "        out.write(frame_array[i])\n",
    "    out.release()"
   ]
  },
  {
   "cell_type": "code",
   "execution_count": 28,
   "metadata": {},
   "outputs": [
    {
     "name": "stdout",
     "output_type": "stream",
     "text": [
      "70\n",
      "C:/Users/Vibhooti Kishor/Downloads/All/Frame-to-video-master/Frame-to-video-master/Ball_dataset/00000001.jpg\n",
      "C:/Users/Vibhooti Kishor/Downloads/All/Frame-to-video-master/Frame-to-video-master/Ball_dataset/00000002.jpg\n",
      "C:/Users/Vibhooti Kishor/Downloads/All/Frame-to-video-master/Frame-to-video-master/Ball_dataset/00000003.jpg\n",
      "C:/Users/Vibhooti Kishor/Downloads/All/Frame-to-video-master/Frame-to-video-master/Ball_dataset/00000004.jpg\n",
      "C:/Users/Vibhooti Kishor/Downloads/All/Frame-to-video-master/Frame-to-video-master/Ball_dataset/00000005.jpg\n",
      "C:/Users/Vibhooti Kishor/Downloads/All/Frame-to-video-master/Frame-to-video-master/Ball_dataset/00000006.jpg\n",
      "C:/Users/Vibhooti Kishor/Downloads/All/Frame-to-video-master/Frame-to-video-master/Ball_dataset/00000007.jpg\n",
      "C:/Users/Vibhooti Kishor/Downloads/All/Frame-to-video-master/Frame-to-video-master/Ball_dataset/00000008.jpg\n",
      "C:/Users/Vibhooti Kishor/Downloads/All/Frame-to-video-master/Frame-to-video-master/Ball_dataset/00000009.jpg\n",
      "C:/Users/Vibhooti Kishor/Downloads/All/Frame-to-video-master/Frame-to-video-master/Ball_dataset/00000010.jpg\n",
      "C:/Users/Vibhooti Kishor/Downloads/All/Frame-to-video-master/Frame-to-video-master/Ball_dataset/00000011.jpg\n",
      "C:/Users/Vibhooti Kishor/Downloads/All/Frame-to-video-master/Frame-to-video-master/Ball_dataset/00000012.jpg\n",
      "C:/Users/Vibhooti Kishor/Downloads/All/Frame-to-video-master/Frame-to-video-master/Ball_dataset/00000013.jpg\n",
      "C:/Users/Vibhooti Kishor/Downloads/All/Frame-to-video-master/Frame-to-video-master/Ball_dataset/00000014.jpg\n",
      "C:/Users/Vibhooti Kishor/Downloads/All/Frame-to-video-master/Frame-to-video-master/Ball_dataset/00000015.jpg\n",
      "C:/Users/Vibhooti Kishor/Downloads/All/Frame-to-video-master/Frame-to-video-master/Ball_dataset/00000016.jpg\n",
      "C:/Users/Vibhooti Kishor/Downloads/All/Frame-to-video-master/Frame-to-video-master/Ball_dataset/00000017.jpg\n",
      "C:/Users/Vibhooti Kishor/Downloads/All/Frame-to-video-master/Frame-to-video-master/Ball_dataset/00000018.jpg\n",
      "C:/Users/Vibhooti Kishor/Downloads/All/Frame-to-video-master/Frame-to-video-master/Ball_dataset/00000019.jpg\n",
      "C:/Users/Vibhooti Kishor/Downloads/All/Frame-to-video-master/Frame-to-video-master/Ball_dataset/00000020.jpg\n",
      "C:/Users/Vibhooti Kishor/Downloads/All/Frame-to-video-master/Frame-to-video-master/Ball_dataset/00000021.jpg\n",
      "C:/Users/Vibhooti Kishor/Downloads/All/Frame-to-video-master/Frame-to-video-master/Ball_dataset/00000022.jpg\n",
      "C:/Users/Vibhooti Kishor/Downloads/All/Frame-to-video-master/Frame-to-video-master/Ball_dataset/00000023.jpg\n",
      "C:/Users/Vibhooti Kishor/Downloads/All/Frame-to-video-master/Frame-to-video-master/Ball_dataset/00000024.jpg\n",
      "C:/Users/Vibhooti Kishor/Downloads/All/Frame-to-video-master/Frame-to-video-master/Ball_dataset/00000025.jpg\n",
      "C:/Users/Vibhooti Kishor/Downloads/All/Frame-to-video-master/Frame-to-video-master/Ball_dataset/00000026.jpg\n",
      "C:/Users/Vibhooti Kishor/Downloads/All/Frame-to-video-master/Frame-to-video-master/Ball_dataset/00000027.jpg\n",
      "C:/Users/Vibhooti Kishor/Downloads/All/Frame-to-video-master/Frame-to-video-master/Ball_dataset/00000028.jpg\n",
      "C:/Users/Vibhooti Kishor/Downloads/All/Frame-to-video-master/Frame-to-video-master/Ball_dataset/00000029.jpg\n",
      "C:/Users/Vibhooti Kishor/Downloads/All/Frame-to-video-master/Frame-to-video-master/Ball_dataset/00000030.jpg\n",
      "C:/Users/Vibhooti Kishor/Downloads/All/Frame-to-video-master/Frame-to-video-master/Ball_dataset/00000031.jpg\n",
      "C:/Users/Vibhooti Kishor/Downloads/All/Frame-to-video-master/Frame-to-video-master/Ball_dataset/00000032.jpg\n",
      "C:/Users/Vibhooti Kishor/Downloads/All/Frame-to-video-master/Frame-to-video-master/Ball_dataset/00000033.jpg\n",
      "C:/Users/Vibhooti Kishor/Downloads/All/Frame-to-video-master/Frame-to-video-master/Ball_dataset/00000034.jpg\n",
      "C:/Users/Vibhooti Kishor/Downloads/All/Frame-to-video-master/Frame-to-video-master/Ball_dataset/00000035.jpg\n",
      "C:/Users/Vibhooti Kishor/Downloads/All/Frame-to-video-master/Frame-to-video-master/Ball_dataset/00000036.jpg\n",
      "C:/Users/Vibhooti Kishor/Downloads/All/Frame-to-video-master/Frame-to-video-master/Ball_dataset/00000037.jpg\n",
      "C:/Users/Vibhooti Kishor/Downloads/All/Frame-to-video-master/Frame-to-video-master/Ball_dataset/00000038.jpg\n",
      "C:/Users/Vibhooti Kishor/Downloads/All/Frame-to-video-master/Frame-to-video-master/Ball_dataset/00000039.jpg\n",
      "C:/Users/Vibhooti Kishor/Downloads/All/Frame-to-video-master/Frame-to-video-master/Ball_dataset/00000040.jpg\n",
      "C:/Users/Vibhooti Kishor/Downloads/All/Frame-to-video-master/Frame-to-video-master/Ball_dataset/00000041.jpg\n",
      "C:/Users/Vibhooti Kishor/Downloads/All/Frame-to-video-master/Frame-to-video-master/Ball_dataset/00000042.jpg\n",
      "C:/Users/Vibhooti Kishor/Downloads/All/Frame-to-video-master/Frame-to-video-master/Ball_dataset/00000043.jpg\n",
      "C:/Users/Vibhooti Kishor/Downloads/All/Frame-to-video-master/Frame-to-video-master/Ball_dataset/00000044.jpg\n",
      "C:/Users/Vibhooti Kishor/Downloads/All/Frame-to-video-master/Frame-to-video-master/Ball_dataset/00000045.jpg\n",
      "C:/Users/Vibhooti Kishor/Downloads/All/Frame-to-video-master/Frame-to-video-master/Ball_dataset/00000046.jpg\n",
      "C:/Users/Vibhooti Kishor/Downloads/All/Frame-to-video-master/Frame-to-video-master/Ball_dataset/00000047.jpg\n",
      "C:/Users/Vibhooti Kishor/Downloads/All/Frame-to-video-master/Frame-to-video-master/Ball_dataset/00000048.jpg\n",
      "C:/Users/Vibhooti Kishor/Downloads/All/Frame-to-video-master/Frame-to-video-master/Ball_dataset/00000049.jpg\n",
      "C:/Users/Vibhooti Kishor/Downloads/All/Frame-to-video-master/Frame-to-video-master/Ball_dataset/00000050.jpg\n",
      "C:/Users/Vibhooti Kishor/Downloads/All/Frame-to-video-master/Frame-to-video-master/Ball_dataset/00000051.jpg\n",
      "C:/Users/Vibhooti Kishor/Downloads/All/Frame-to-video-master/Frame-to-video-master/Ball_dataset/00000052.jpg\n",
      "C:/Users/Vibhooti Kishor/Downloads/All/Frame-to-video-master/Frame-to-video-master/Ball_dataset/00000053.jpg\n",
      "C:/Users/Vibhooti Kishor/Downloads/All/Frame-to-video-master/Frame-to-video-master/Ball_dataset/00000054.jpg\n",
      "C:/Users/Vibhooti Kishor/Downloads/All/Frame-to-video-master/Frame-to-video-master/Ball_dataset/00000055.jpg\n",
      "C:/Users/Vibhooti Kishor/Downloads/All/Frame-to-video-master/Frame-to-video-master/Ball_dataset/00000056.jpg\n",
      "C:/Users/Vibhooti Kishor/Downloads/All/Frame-to-video-master/Frame-to-video-master/Ball_dataset/00000057.jpg\n",
      "C:/Users/Vibhooti Kishor/Downloads/All/Frame-to-video-master/Frame-to-video-master/Ball_dataset/00000058.jpg\n",
      "C:/Users/Vibhooti Kishor/Downloads/All/Frame-to-video-master/Frame-to-video-master/Ball_dataset/00000059.jpg\n",
      "C:/Users/Vibhooti Kishor/Downloads/All/Frame-to-video-master/Frame-to-video-master/Ball_dataset/00000060.jpg\n",
      "C:/Users/Vibhooti Kishor/Downloads/All/Frame-to-video-master/Frame-to-video-master/Ball_dataset/00000061.jpg\n",
      "C:/Users/Vibhooti Kishor/Downloads/All/Frame-to-video-master/Frame-to-video-master/Ball_dataset/00000062.jpg\n",
      "C:/Users/Vibhooti Kishor/Downloads/All/Frame-to-video-master/Frame-to-video-master/Ball_dataset/00000063.jpg\n",
      "C:/Users/Vibhooti Kishor/Downloads/All/Frame-to-video-master/Frame-to-video-master/Ball_dataset/00000064.jpg\n",
      "C:/Users/Vibhooti Kishor/Downloads/All/Frame-to-video-master/Frame-to-video-master/Ball_dataset/00000065.jpg\n",
      "C:/Users/Vibhooti Kishor/Downloads/All/Frame-to-video-master/Frame-to-video-master/Ball_dataset/00000066.jpg\n",
      "C:/Users/Vibhooti Kishor/Downloads/All/Frame-to-video-master/Frame-to-video-master/Ball_dataset/00000067.jpg\n",
      "C:/Users/Vibhooti Kishor/Downloads/All/Frame-to-video-master/Frame-to-video-master/Ball_dataset/00000068.jpg\n",
      "C:/Users/Vibhooti Kishor/Downloads/All/Frame-to-video-master/Frame-to-video-master/Ball_dataset/00000069.jpg\n"
     ]
    }
   ],
   "source": [
    "pathIn= \"C:/Users/Vibhooti Kishor/Downloads/All/Frame-to-video-master/Frame-to-video-master/Ball_dataset/\"\n",
    "pathOut = 'ball.avi'\n",
    "fps = 25.0\n",
    "convert_frames_to_video(pathIn, pathOut, fps)"
   ]
  },
  {
   "cell_type": "code",
   "execution_count": null,
   "metadata": {},
   "outputs": [],
   "source": []
  }
 ],
 "metadata": {
  "kernelspec": {
   "display_name": "Python 3",
   "language": "python",
   "name": "python3"
  },
  "language_info": {
   "codemirror_mode": {
    "name": "ipython",
    "version": 3
   },
   "file_extension": ".py",
   "mimetype": "text/x-python",
   "name": "python",
   "nbconvert_exporter": "python",
   "pygments_lexer": "ipython3",
   "version": "3.8.3"
  }
 },
 "nbformat": 4,
 "nbformat_minor": 4
}
